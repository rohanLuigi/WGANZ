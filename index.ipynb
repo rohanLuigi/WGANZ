{
 "cells": [
  {
   "cell_type": "markdown",
   "metadata": {},
   "source": [
    "\n",
    "### A.L. Rae Centre Workshop on Genomic Prediction and Genome-Wide Association Studies\n",
    "\n",
    "### November 9-13, 2015\n",
    "\n",
    "### Coachman Hotel, Palmerston North, New Zealand\n",
    "\n",
    "\n",
    "### Course Instructors:\n",
    "* Dorian Garrick\n",
    "* Rohan Fernando\n",
    "\n",
    "\n",
    "### Topics Covered:\n",
    "*\tStatistical, quantitative genetic, and computational aspects of genomic prediction.\n",
    "*\tGenome-wide association studies using genomic prediction methods\n",
    "*\tJulia scripts for genomic prediction and GWAS\n",
    "\n",
    "\n",
    "### Prerequisites:        \n",
    "* Graduate-level course in quantitative genetics.\n",
    "* Graduate-level course in statistics.\n",
    "* Basic understanding of concepts in QTL mapping, linkage, linkage disequilibrium and computer programming."
   ]
  },
  {
   "cell_type": "markdown",
   "metadata": {},
   "source": [
    "### Notes:\n",
    "\n",
    "* Day 1:\n",
    " * [Introduction to Genomic Prediction](Slides/Introduction.pdf)\n",
    " * [Simple Linear Models](Slides/Simple_Linear_Models.pdf)\n",
    " * Simulation of data using Julia \n",
    " ([notebook](JupyterNoteBooks/dataSimulation.ipynb), [slides](JupyterNoteBooks/dataSimulation.slides.html))\n",
    "* Day 2: \n",
    " * [Monte-Carlo Integration](JupyterNoteBooks/MonteCarlo.ipynb)\n",
    " * Bayes' Theorem\n",
    " ([notebook](JupyterNoteBooks/BayesTheorem.ipynb),[slides](JupyterNoteBooks/BayesTheorem.slides.html))\n",
    " * [Introduction to MCMC Sampling](JupyterNoteBooks/MonteCarlo.ipynb#mcmc)\n",
    " * [Interactive Plot of Gibbs and MH Samplers](JupyterNoteBooks/interactive_MH_Gibbs.ipynb)\n",
    " * [Pedigree-based Mixed Linear Models](Slides/PedigreeBLUP.pdf)\n",
    " * [Introduction to MCMC](JupyterNoteBooks/MonteCarlo.ipynb#mcmc)"
   ]
  },
  {
   "cell_type": "markdown",
   "metadata": {},
   "source": [
    "### Julia Tutorial:\n",
    "\n",
    "* [Learn X in Y minutes](http://learnxinyminutes.com/docs/julia/)\n",
    "* [Introduction to Julia for Statistical Genetics](http://reworkhow.github.io/JuliaGenBook/)\n",
    "* [Package Management](http://nbviewer.ipython.org/github/reworkhow/GPW2015/blob/master/notes/Pkg.ipynb)"
   ]
  }
 ],
 "metadata": {
  "kernelspec": {
   "display_name": "Julia 0.4.0",
   "language": "julia",
   "name": "julia-0.4"
  },
  "language_info": {
   "file_extension": ".jl",
   "mimetype": "application/julia",
   "name": "julia",
   "version": "0.4.0"
  }
 },
 "nbformat": 4,
 "nbformat_minor": 0
}
