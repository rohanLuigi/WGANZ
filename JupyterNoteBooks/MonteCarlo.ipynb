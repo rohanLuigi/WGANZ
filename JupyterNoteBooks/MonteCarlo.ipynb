{
 "cells": [
  {
   "cell_type": "markdown",
   "metadata": {
    "slideshow": {
     "slide_type": "slide"
    }
   },
   "source": [
    "# Introduction to Monte-Carlo Methods\n",
    "\n",
    "## Rohan L. Fernando\n",
    "\n",
    "## November 2015"
   ]
  },
  {
   "cell_type": "markdown",
   "metadata": {
    "slideshow": {
     "slide_type": "slide"
    }
   },
   "source": [
    "## Mean and Variance of Truncated Normal\n",
    "\n",
    "\n",
    "Suppose $Y \\sim N(\\mu_Y,V_Y)$.\n",
    "\n",
    "The mean and variance of $Y$ given truncation\n",
    "selection are:"
   ]
  },
  {
   "cell_type": "markdown",
   "metadata": {},
   "source": [
    "\\begin{equation}\n",
    "E(Y|Y>t) = \\mu_Y + V_Y^{1/2}i\n",
    "\\end{equation}\n",
    "\n",
    "where\n",
    "$$\n",
    "i = \\frac{f(s)}{p}\n",
    "$$\n",
    "$f(s)$ is the standard normal density function\n",
    "$$\n",
    "s = \\frac{t - \\mu_Y}{V_Y^{1/2}}\n",
    "$$\n",
    "$$\n",
    "p = \\Pr(Y > t)\n",
    "$$"
   ]
  },
  {
   "cell_type": "markdown",
   "metadata": {
    "collapsed": true,
    "slideshow": {
     "slide_type": "-"
    }
   },
   "source": [
    "\\begin{equation}\n",
    "Var(Y|Y>t) = V_Y[1 - i(i-s)]\n",
    "\\end{equation}"
   ]
  },
  {
   "cell_type": "markdown",
   "metadata": {
    "slideshow": {
     "slide_type": "subslide"
    }
   },
   "source": [
    "## Proof:\n",
    "\n",
    "Start with  mean and variance for a standard normal variable given truncation selection.\n",
    "\n",
    "Let $Z \\sim N(0,1)$. \n",
    "\n",
    "The density function of $Z$ is:\n",
    "$$\n",
    "f(z) = \\sqrt{\\frac{1}{2\\pi}}e^{-\\frac{1}{2}z^2}\n",
    "$$\n",
    "\n",
    "The density function for $Z$ given truncation selection is \n",
    "$$\n",
    "f(z|z>s) = f(z)/p\n",
    "$$\n",
    "\n"
   ]
  },
  {
   "cell_type": "markdown",
   "metadata": {},
   "source": [
    "From the definition of the mean:\n",
    "\\begin{equation*}\n",
    "\\begin{split}\n",
    "E(Z|Z>s) &= \\frac{1}{p} \\int_s^{\\infty} z f(z)dz\\\\\n",
    "          &= \\frac{1}{p} [-f(z) ] _s^{\\infty} \\\\\n",
    "          &= \\frac{f(s)}{p} \\\\\n",
    "          &= i\n",
    "\\end{split}\n",
    "\\end{equation*}\n",
    "\n",
    "because the first derivative of $f(z)$ with respect to $z$ is:\n",
    "\\begin{equation*}\n",
    "\\begin{split}\n",
    "\\frac{d}{dz} f(z) &= \\sqrt{\\frac{1}{2\\pi} } e^{-\\frac{1}{2}z^2} (-z)\\\\\n",
    "                  &= -zf(z)\n",
    "\\end{split}\n",
    "\\end{equation*}"
   ]
  },
  {
   "cell_type": "markdown",
   "metadata": {},
   "source": [
    "Now, to compute the variance of $Z$ given selection, consider the following\n",
    "identity:\n",
    "\\begin{equation*}\n",
    "\\begin{split}\n",
    "\\frac{d}{dz} z f(z) &= f(z) + z \\frac{d}{dz} f(z) \\\\\n",
    "                    &= f(z) - z^2 f(z) \n",
    "\\end{split}\n",
    "\\end{equation*}\n",
    "\n",
    "Integrating both sides from $s$ to $\\infty$ gives\n",
    "\\begin{equation*}\n",
    "zf(z)]_s^\\infty = \\int_s^\\infty  f(z) dz - \\int_s^\\infty z^2 f(z)dz\n",
    "\\end{equation*}\n",
    "Upon rearranging this gives:\n",
    "\\begin{equation*}\n",
    "\\begin{split}\n",
    "            \\int_s^\\infty z^2 f(z)dz &= \\int_s^\\infty  f(z) dz - zf(z)]_s^\\infty \\\\\n",
    "\\frac{1}{p} \\int_s^\\infty z^2 f(z)dz &= \n",
    "          \\frac{1}{p} \\int_s^\\infty  f(z) dz  + \\frac{f(s)}{p}s\\\\\n",
    "          &= 1 + is\n",
    "\\end{split}\n",
    "\\end{equation*}"
   ]
  },
  {
   "cell_type": "markdown",
   "metadata": {},
   "source": [
    "So, \n",
    "\\begin{equation}\n",
    "  \\begin{split}\n",
    "    Var(Z|Z>s)  &= E(Z^2|Z>s) - [E(Z|Z>s)]^2\\\\\n",
    "                &= 1 + is - i^2 \\\\\n",
    "                &= 1 - i(i-s)\n",
    "  \\end{split}\n",
    "\\end{equation}\n"
   ]
  },
  {
   "cell_type": "markdown",
   "metadata": {
    "slideshow": {
     "slide_type": "subslide"
    }
   },
   "source": [
    "## Results for $Y$\n",
    "\n",
    "Results for $Y$ follow from the fact that \n",
    "$$\n",
    "\\mu_Y + V_Y^{1/2}Z \\sim N(\\mu_Y,V_Y)\n",
    "$$\n",
    "\n",
    "So, let \n",
    "$$\n",
    "Y = \\mu_Y + V_Y^{1/2}Z,\n",
    "$$\n",
    "Then, the condition\n",
    "$$\n",
    "Y>t\n",
    "$$\n",
    "is equivalent to \n",
    "\\begin{equation*}\n",
    "  \\begin{split}\n",
    "    \\mu_Y + V_Y^{1/2}Z &> t \\\\\n",
    "            V_Y^{1/2}Z &> t - \\mu_Y \\\\\n",
    "                     Z &> \\frac{t - \\mu_Y}{V_Y^{1/2}}\\\\\n",
    "                     Z &> s\n",
    "  \\end{split} \n",
    "\\end{equation*}"
   ]
  },
  {
   "cell_type": "markdown",
   "metadata": {},
   "source": [
    "Then, \n",
    "\\begin{equation*}\n",
    "  \\begin{split}\n",
    "    E(Y|Y>t) &= E(\\mu_Y + V_Y^{1/2}Z |Z>s) \\\\\n",
    "             &= \\mu_Y + V_Y^{1/2}i,\n",
    "  \\end{split}\n",
    "\\end{equation*}\n",
    "and\n",
    "\\begin{equation*}\n",
    "  \\begin{split} \n",
    "    Var(Y|Y>t) &=  Var(\\mu_Y + V_Y^{1/2}Z |Z>s) \\\\\n",
    "                &= V_Y[1 - i(i-s)]\n",
    "  \\end{split}\n",
    "\\end{equation*}\n"
   ]
  },
  {
   "cell_type": "markdown",
   "metadata": {},
   "source": [
    "## Numerical Example"
   ]
  },
  {
   "cell_type": "code",
   "execution_count": 1,
   "metadata": {
    "collapsed": false
   },
   "outputs": [
    {
     "ename": "LoadError",
     "evalue": "LoadError: UndefVarError: Normal not defined\nwhile loading In[1], in expression starting on line 5",
     "output_type": "error",
     "traceback": [
      "LoadError: UndefVarError: Normal not defined\nwhile loading In[1], in expression starting on line 5",
      ""
     ]
    }
   ],
   "source": [
    "μ = 10\n",
    "σ = 10\n",
    "t = 15\n",
    "s = (t-μ)/σ\n",
    "d = Normal(0.0,1.0)\n",
    "i = pdf(d,s)/(1-cdf(d,s))\n",
    "meanTruncatedNormal = μ + σ*i\n",
    "variTruncatedNormal = σ*σ*(1 - i*(i-s))\n",
    "@printf \"mean     = %8.2f  \\n\" meanTruncatedNormal\n",
    "@printf \"variance = %8.2f  \\n\" variTruncatedNormal"
   ]
  },
  {
   "cell_type": "markdown",
   "metadata": {
    "slideshow": {
     "slide_type": "slide"
    }
   },
   "source": [
    "## Monte-Carlo Approach:"
   ]
  },
  {
   "cell_type": "code",
   "execution_count": 2,
   "metadata": {
    "collapsed": false
   },
   "outputs": [],
   "source": [
    "using Distributions \n",
    "μ = 10\n",
    "σ = 10\n",
    "z = rand(Normal(μ,σ),10000);"
   ]
  },
  {
   "cell_type": "code",
   "execution_count": 3,
   "metadata": {
    "collapsed": false
   },
   "outputs": [
    {
     "name": "stdout",
     "output_type": "stream",
     "text": [
      "MC mean     =  "
     ]
    }
   ],
   "source": [
    "mcmcMean = mean(z[z.>t])\n",
    "mcmcVar = var(z[z.>t])\n",
    "@printf \"MC mean     = %8.2f  \\n\" mcmcMean\n",
    "@printf \"MC variance = %8.2f  \\n\" mcmcVar"
   ]
  },
  {
   "cell_type": "markdown",
   "metadata": {},
   "source": [
    "## Bivariate Normal Example\n",
    "\n",
    "Let $\\mathbf(Y) \\sim N(\\mathbf{\\mu},\\mathbf{V})$\n",
    "\n",
    "$\n",
    "\\mathbf{\\mu} = \n",
    "\\begin{bmatrix}\n",
    "10\\\\\n",
    "20\n",
    "\\end{bmatrix},\n",
    "$\n",
    "$\n",
    "\\mathbf{V} = \n",
    "\\begin{bmatrix}\n",
    "100 & 50\\\\\n",
    "50  & 200\n",
    "\\end{bmatrix}\n",
    "$\n"
   ]
  },
  {
   "cell_type": "code",
   "execution_count": 4,
   "metadata": {
    "collapsed": false
   },
   "outputs": [
    {
     "data": {
      "text/plain": [
       "10000x2 Array{Float64,2}:\n",
       "  -1.94148  21.3088 \n",
       " -10.5312   33.1527 \n",
       "  14.8755    7.77947\n",
       "  14.786     4.81301\n",
       "  11.7489   24.0003 \n",
       "  13.4372   20.6017 \n",
       "  12.4404   22.2531 \n",
       "   2.06395  25.5713 \n",
       "  -8.08122  17.6762 \n",
       "   8.69544   9.67293\n",
       "   3.33534  22.4813 \n",
       "  17.2923   22.3746 \n",
       "  21.8807   40.721  \n",
       "   ⋮                \n",
       "  18.0063   -3.457  \n",
       "  19.2438   36.0495 \n",
       "   9.0853   30.3968 \n",
       "   6.45436  14.9062 \n",
       "  22.1009   38.1721 \n",
       "   5.30666  35.3308 \n",
       "  -1.45931  19.4049 \n",
       "   4.00995  21.2601 \n",
       "   4.20977  -5.1295 \n",
       "   4.97365   7.02623\n",
       "  26.1387   36.1177 \n",
       "  21.3901   44.6499 "
      ]
     },
     "execution_count": 4,
     "metadata": {},
     "output_type": "execute_result"
    },
    {
     "name": "stdout",
     "output_type": "stream",
     "text": [
      "  21.45  \n",
      "MC variance =    27.01  \n"
     ]
    }
   ],
   "source": [
    "μ = [10.0;20.0]\n",
    "V = [100.0 50.0\n",
    "    50.0  200.0]\n",
    "d = MvNormal(μ,V)\n",
    "XY = rand(d,10000)'"
   ]
  },
  {
   "cell_type": "code",
   "execution_count": 5,
   "metadata": {
    "collapsed": false
   },
   "outputs": [
    {
     "data": {
      "text/plain": [
       "10000-element BitArray{1}:\n",
       " false\n",
       " false\n",
       "  true\n",
       "  true\n",
       "  true\n",
       "  true\n",
       "  true\n",
       " false\n",
       " false\n",
       " false\n",
       " false\n",
       "  true\n",
       "  true\n",
       "     ⋮\n",
       "  true\n",
       "  true\n",
       " false\n",
       " false\n",
       "  true\n",
       " false\n",
       " false\n",
       " false\n",
       " false\n",
       " false\n",
       "  true\n",
       "  true"
      ]
     },
     "execution_count": 5,
     "metadata": {},
     "output_type": "execute_result"
    }
   ],
   "source": [
    "sel = XY[:,1].>10"
   ]
  },
  {
   "cell_type": "code",
   "execution_count": 7,
   "metadata": {
    "collapsed": false
   },
   "outputs": [
    {
     "data": {
      "text/plain": [
       "4988-element Array{Float64,1}:\n",
       "  7.77947\n",
       "  4.81301\n",
       " 24.0003 \n",
       " 20.6017 \n",
       " 22.2531 \n",
       " 22.3746 \n",
       " 40.721  \n",
       " 11.091  \n",
       " 33.3596 \n",
       " 29.3974 \n",
       " 38.6711 \n",
       " 62.2682 \n",
       " 13.4879 \n",
       "  ⋮      \n",
       " 27.6576 \n",
       " 17.8093 \n",
       " 27.1506 \n",
       " 12.2965 \n",
       " 20.7879 \n",
       " 28.0033 \n",
       " 10.6502 \n",
       " -3.457  \n",
       " 36.0495 \n",
       " 38.1721 \n",
       " 36.1177 \n",
       " 44.6499 "
      ]
     },
     "execution_count": 7,
     "metadata": {},
     "output_type": "execute_result"
    }
   ],
   "source": [
    "selY = XY[sel,2]"
   ]
  },
  {
   "cell_type": "code",
   "execution_count": 8,
   "metadata": {
    "collapsed": false
   },
   "outputs": [
    {
     "data": {
      "text/plain": [
       "39.30857480296467"
      ]
     },
     "execution_count": 8,
     "metadata": {},
     "output_type": "execute_result"
    }
   ],
   "source": [
    "mean(selY[selY.>30])"
   ]
  },
  {
   "cell_type": "code",
   "execution_count": 9,
   "metadata": {
    "collapsed": false,
    "scrolled": true
   },
   "outputs": [
    {
     "data": {
      "text/plain": [
       "51.950759465405845"
      ]
     },
     "execution_count": 9,
     "metadata": {},
     "output_type": "execute_result"
    }
   ],
   "source": [
    "var(selY[selY.>30])"
   ]
  },
  {
   "cell_type": "markdown",
   "metadata": {},
   "source": [
    "Markov Chain Monte-Carlo Methods\n",
    "================================\n",
    "\n",
    "-   Often no closed form for\n",
    "    $f(\\mathbf{\\theta}|\\mathbf{y})$\n",
    "\n",
    "-   Further, even if computing\n",
    "    $f(\\theta|{\\mathbf y})$\n",
    "    is feasible, obtaining\n",
    "    $f(\\theta_{i}|{\\mathbf y})$ would require\n",
    "    integrating over many dimensions\n",
    "\n",
    "-   Thus, in many situations, inferences are made using the empirical\n",
    "    posterior constructed by drawing samples from\n",
    "    $f({\\mathbf \\theta}|{\\mathbf y})$\n",
    "\n",
    "-   Gibbs sampler is widely used for drawing samples from posteriors"
   ]
  },
  {
   "cell_type": "markdown",
   "metadata": {
    "slideshow": {
     "slide_type": "slide"
    }
   },
   "source": [
    "Gibbs Sampler\n",
    "-------------\n",
    "\n",
    "-   Want to draw samples from $f(x_{1},x_{2},\\ldots,x_{n})$\n",
    "\n",
    "-   Even though it may be possible to compute\n",
    "    $f(x_{1},x_{2},\\ldots,x_{n})$, it is difficult to draw samples\n",
    "    directly from $f(x_{1},x_{2},\\ldots,x_{n})$\n",
    "\n",
    "-   Gibbs:\n",
    "\n",
    "    -   Get valid a starting point $\\mathbf{x}^{0}$\n",
    "\n",
    "    -   Draw sample $\\mathbf{x}^{t}$ as:\n",
    "        $$\\begin{matrix}x_{1}^{t} & \\text{from} & f(x_{1}|x_{2}^{t-1},x_{3}^{t-1},\\ldots,x_{n}^{t-1})\\\\\n",
    "        x_{2}^{t} & \\text{from} & f(x_{2}|x_{1}^{t},x_{3}^{t-1},\\ldots,x_{n}^{t-1})\\\\\n",
    "        x_{3}^{t} & \\text{from} & f(x_{3}|x_{1}^{t},x_{2}^{t},\\ldots,x_{n}^{t-1})\\\\\n",
    "        \\vdots &  & \\vdots\\\\\n",
    "        x_{n}^{t} & \\text{from} & f(x_{n}|x_{1}^{t},x_{2}^{t},\\ldots,x_{n-1}^{t})\n",
    "        \\end{matrix}$$\n",
    "\n",
    "-   The sequence\n",
    "    ${\\mathbf x}^{1},{\\mathbf x}^{2},\\ldots,{\\mathbf x}^{n}$\n",
    "    is a Markov chain with stationary distribution\n",
    "    $f(x_{1},x_{2},\\ldots,x_{n})$\n",
    "\n",
    "Making Inferences from Markov Chain\n",
    "-----------------------------------\n",
    "\n",
    "Can show that samples obtained from a <font color='red'>Markov chain</font> can be\n",
    "used to draw inferences from $f(x_{1},x_{2},\\ldots,x_{n})$ provided the\n",
    "chain is:\n",
    "\n",
    "-   <font color='red'>Irreducible</font>: can move from any state $i$ to any other\n",
    "    state $j$\n",
    "\n",
    "-   <font color='red'>Positive recurrent</font>: return time to any state has finite\n",
    "    expectation\n",
    "\n",
    "-   *Markov Chains*, J. R. Norris (1997)"
   ]
  },
  {
   "cell_type": "markdown",
   "metadata": {},
   "source": [
    "##  Bivariate Normal Example\n",
    "\n",
    "Let $f(\\mathbf{x})$ be a bivariate normal density with\n",
    "  means\n",
    "$$\n",
    "\\mu' =\n",
    "\\begin{bmatrix}\n",
    "  1 & 2\n",
    "\\end{bmatrix}\n",
    "$$\n",
    "and covariance matrix\n",
    "$$\n",
    "\\mathbf{V} =\n",
    "\\begin{bmatrix}\n",
    "  1 & 0.5\\\\\n",
    "0.5& 2.0\n",
    "\\end{bmatrix}\n",
    "$$\n",
    "\n",
    "\n",
    "Suppose we do not know how to draw samples from $f(\\mathbf{x})$, but know how\n",
    "to draw samples from $f(x_i|x_j)$, which is univariate normal with mean:\n",
    "$$\n",
    "\\mu_{i.j} = \\mu_i + \\frac{v_{ij}}{v_{jj}}(x_j - \\mu_j)\n",
    "$$\n",
    "and variance\n",
    "$$\n",
    "v_{i.j} = v_{ii} - \\frac{v^2_{ij}}{v_{jj}}\n",
    "$$"
   ]
  },
  {
   "cell_type": "code",
   "execution_count": 10,
   "metadata": {
    "collapsed": false
   },
   "outputs": [
    {
     "name": "stdout",
     "output_type": "stream",
     "text": [
      "  "
     ]
    }
   ],
   "source": [
    "m = fill(0,2)\n",
    "nSamples = 2000\n",
    "m = [1.0, 2.0]\n",
    "v = [1.0 0.5; 0.5 2.0]\n",
    "y   = fill(0.0,2)\n",
    "sum = fill(0.0,2)\n",
    "s12 = sqrt( v[1,1] - v[1,2]*v[1,2]/v[2,2])\n",
    "s21 = sqrt(v[2,2] -  v[1,2]*v[1,2]/v[1,1])\n",
    "m1 = 0\n",
    "m2 = 0;\n",
    "for (iter in 1:nSamples)\n",
    "    m12 = m[1] + v[1,2]/v[2,2]*(y[2] - m[2])\n",
    "    m21 = m[2] + v[1,2]/v[1,1]*(y[1] - m[1])\n",
    "    y[1] = rand(Normal(m12,s12),1)[1]\n",
    "    y[2] = rand(Normal(m21,s21),1)[1]\n",
    "    sum += y\n",
    "    mean = sum/iter\n",
    "    if iter%100 == 0 \n",
    "        @printf \"%10d %8.2f %8.2f \\n\" iter mean[1]  mean[2]\n",
    "    end\n",
    "end"
   ]
  },
  {
   "cell_type": "markdown",
   "metadata": {
    "slideshow": {
     "slide_type": "slide"
    }
   },
   "source": [
    "## Metropolis-Hastings Algorithm\n",
    "\n",
    "* Sometimes may not be able to draw samples directly from $f(x_i|\\mathbf{x}_{i\\_})$ \n",
    "\n",
    "* Convergence of the Gibbs sampler may be too slow\n",
    "\n",
    "* Metropolis-Hastings (MH) for sampling from $f(\\mathbf{x})$: \n",
    "\n",
    "\t"
   ]
  },
  {
   "cell_type": "markdown",
   "metadata": {
    "slideshow": {
     "slide_type": "-"
    }
   },
   "source": [
    "* a candidate sample, $y$, is drawn from a proposal distribution $q(y|x^{t-1})$\n",
    "\n",
    "\t$$\n",
    "\tx^t =  \\begin{cases}\n",
    "\t           y            &  \\text{with probability}\\, \\alpha \\\\\n",
    "               x^{t-1}     & \\text{with probability}\\, 1 - \\alpha \\\\ \n",
    "\t\t   \\end{cases}\n",
    "\t$$\n",
    "\t\n",
    "$$ \\alpha = \\min(1,\\frac{f(y)q(x^{t-1}|y)}{f(x^{t-1})q(y|x^{t-1})}) $$\n",
    " \n",
    "    \n",
    "* The samples from MH is a Markov chain with stationary distribution $f(x)$      "
   ]
  },
  {
   "cell_type": "markdown",
   "metadata": {},
   "source": [
    "## Bivariate Normal Example"
   ]
  },
  {
   "cell_type": "code",
   "execution_count": 11,
   "metadata": {
    "collapsed": false
   },
   "outputs": [
    {
     "name": "stdout",
     "output_type": "stream",
     "text": [
      "     100     0.89     1.66 \n",
      "       200     0.87     1.85 \n",
      "       300     0.95     1.93 \n",
      "       400     0.98     1.95 \n",
      "       500     0.99     1.93 \n",
      "       600     0.98     1.91 \n",
      "       700     0.96     1.90 \n",
      "       800     0.97     1.91 \n",
      "       900     0.97     1.92 \n",
      "      1000     0.97     1.91 \n",
      "      1100     0.95     1.90 \n",
      "      1200     0.95     1.92 \n",
      "      1300     0.96     1.92 \n",
      "      1400     0.96     1.94 \n",
      "      1500     0.97     1.94 \n",
      "      1600     0.97     1.94 \n",
      "      1700     0.96     1.94 \n",
      "      1800     0.97     1.96 \n",
      "      1900     0.97     1.96 \n",
      "      2000     0.97     1.96 \n",
      "      1000     1.00     2.02 \n",
      "      2000     0.98     2.06 \n",
      "      3000     0.95     1.96 \n",
      "      4000     0.95     1.95 \n",
      "      5000     0.95     1.99 \n",
      "      6000     0.99     2.00 \n",
      "      7000     0.97     2.02 \n",
      "      8000     0.99     2.02 \n",
      "      9000     1.00     2.03 \n",
      "     10000     0.99     2.01 \n"
     ]
    }
   ],
   "source": [
    "nSamples = 10000\n",
    "m = [1.0, 2.0]\n",
    "v = [1.0 0.5; 0.5 2.0]\n",
    "vi = inv(v)\n",
    "y   = fill(0.0,2)\n",
    "sum = fill(0.0,2)\n",
    "\n",
    "m1 = 0\n",
    "m2 = 0\n",
    "xx = 0\n",
    "y1 = 0\n",
    "delta = 1.0\n",
    "min1 = -delta*sqrt(v[1,1])\n",
    "max1 = +delta*sqrt(v[1,1])\n",
    "min2 = -delta*sqrt(v[2,2])\n",
    "max2 = +delta*sqrt(v[2,2])\n",
    "z = y-m\n",
    "denOld = exp(-0.5*z'*vi*z)\n",
    "d1 = Uniform(min1,max1)\n",
    "d2 = Uniform(min2,max2)\n",
    "ynew = fill(0.0,2);\n",
    "for (iter in 1:nSamples)\n",
    "    ynew[1] = y[1] + rand(d1,1)[1]\n",
    "    ynew[2] = y[2] + rand(d2,1)[1]\n",
    "   denNew = exp(-0.5*(ynew-m)'*vi*(ynew-m));\n",
    "   alpha = denNew/denOld;\n",
    "    u = rand()\n",
    "    if (u < alpha[1]) \n",
    "        y = copy(ynew)\n",
    "   \t\tdenOld = exp(-0.5*(y-m)'*vi*(y-m)) \n",
    "    end\n",
    "    sum += y\n",
    "    mean = sum/iter\n",
    "    if iter%1000 == 0 \n",
    "        @printf \"%10d %8.2f %8.2f \\n\" iter mean[1]  mean[2]\n",
    "    end\n",
    "end"
   ]
  }
 ],
 "metadata": {
  "kernelspec": {
   "display_name": "Julia 0.4.0",
   "language": "julia",
   "name": "julia-0.4"
  },
  "language_info": {
   "file_extension": ".jl",
   "mimetype": "application/julia",
   "name": "julia",
   "version": "0.4.0"
  }
 },
 "nbformat": 4,
 "nbformat_minor": 0
}
